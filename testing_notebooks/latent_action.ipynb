{
 "cells": [
  {
   "cell_type": "code",
   "execution_count": null,
   "metadata": {},
   "outputs": [],
   "source": [
    "# Import Libraries\n",
    "import numpy as np\n",
    "import torch \n",
    "from genie.action import LatentAction\n",
    "from accelerate import Accelerator\n",
    "from torch.utils.tensorboard import SummaryWriter"
   ]
  },
  {
   "cell_type": "code",
   "execution_count": null,
   "metadata": {},
   "outputs": [],
   "source": [
    "# Training Hyperparameters\n",
    "lr = 0.001\n",
    "batch_size = 8\n",
    "n_epochs = 10"
   ]
  },
  {
   "cell_type": "code",
   "execution_count": null,
   "metadata": {},
   "outputs": [],
   "source": [
    "# Load Data\n",
    "data = ..."
   ]
  },
  {
   "cell_type": "code",
   "execution_count": null,
   "metadata": {},
   "outputs": [],
   "source": [
    "# Model Architecture\n",
    "ENC_BLUEPRINT = (\n",
    "    ('space-time_attn', {\n",
    "        'n_rep' : 2,\n",
    "        'n_embd' : 256,\n",
    "        'n_head' : 4,\n",
    "        'd_head' : 8,\n",
    "    }),\n",
    "    ('spacetime_downsample', {\n",
    "        'in_channels' : 256,\n",
    "        'kernel_size' : 3,\n",
    "        'time_factor' : 1,\n",
    "        'space_factor' : 2,\n",
    "    }),\n",
    "    ('space-time_attn', {\n",
    "        'n_rep' : 2,\n",
    "        'n_embd' : 256,\n",
    "        'n_head' : 4,\n",
    "        'd_head' : 8,\n",
    "    }),\n",
    ")\n",
    "\n",
    "DEC_BLUEPRINT = (\n",
    "    ('space-time_attn', {\n",
    "        'n_rep' : 2,\n",
    "        'n_embd' : 256,\n",
    "        'n_head' : 4,\n",
    "        'd_head' : 16,\n",
    "        'has_ext' : True,\n",
    "        'time_attn_kw'  : {'key_dim' : 8},\n",
    "    }),\n",
    "    ('spacetime_upsample', {\n",
    "        'in_channels' : 256,\n",
    "        'kernel_size' : 3,\n",
    "        'time_factor' : 1,\n",
    "        'space_factor' : 2,\n",
    "    }),\n",
    "    ('space-time_attn', {\n",
    "        'n_rep' : 2,\n",
    "        'n_embd' : 256,\n",
    "        'n_head' : 4,\n",
    "        'd_head' : 16,\n",
    "        'has_ext' : True,\n",
    "        'time_attn_kw'  : {'key_dim' : 8},\n",
    "    }),\n",
    ")\n"
   ]
  },
  {
   "cell_type": "code",
   "execution_count": null,
   "metadata": {},
   "outputs": [],
   "source": [
    "# Create Model\n",
    "\n",
    "accelerator = Accelerator()\n",
    "\n",
    "model = LatentAction(\n",
    "    enc_desc = ENC_BLUEPRINT,\n",
    "    dec_desc = DEC_BLUEPRINT,\n",
    "    d_codebook=8,      \n",
    "    inp_channels=1,     \n",
    "    inp_shape=(16, 16), \n",
    "    n_embd=256, \n",
    ")\n",
    "\n",
    "optimizer = torch.optim.Adam(model.parameters(), lr=lr)\n",
    "\n",
    "model, optimizer, data = accelerator.prepare(model, optimizer, data)\n",
    "\n",
    "model.train()"
   ]
  },
  {
   "cell_type": "code",
   "execution_count": null,
   "metadata": {},
   "outputs": [],
   "source": [
    "def train(model, data, optimizer, accelerator, n_epochs):\n",
    "    for epoch in range(n_epochs):\n",
    "        for batch in data:\n",
    "            loss = model(batch)\n",
    "\n",
    "            for param in model.parameters():\n",
    "                param.grad = None\n",
    "\n",
    "            accelerator.backward(loss)\n",
    "            optimizer.step()"
   ]
  }
 ],
 "metadata": {
  "kernelspec": {
   "display_name": "lfhd",
   "language": "python",
   "name": "python3"
  },
  "language_info": {
   "name": "python",
   "version": "3.11.11"
  }
 },
 "nbformat": 4,
 "nbformat_minor": 2
}
